{
 "cells": [
  {
   "cell_type": "code",
   "execution_count": null,
   "metadata": {},
   "outputs": [],
   "source": [
    "### Track cells through shape and distance"
   ]
  },
  {
   "cell_type": "code",
   "execution_count": 1,
   "metadata": {},
   "outputs": [],
   "source": [
    "import os, shutil\n",
    "import numpy as np\n",
    "import matplotlib.pyplot as plt\n",
    "from cellpose import core, utils, io, models, metrics\n",
    "from glob import glob\n",
    "from natsort import natsorted\n",
    "import imageio.v2 as iio"
   ]
  },
  {
   "cell_type": "code",
   "execution_count": 123,
   "metadata": {},
   "outputs": [],
   "source": [
    "t1 = natsorted(glob(\"t1/*png\"))\n",
    "test_image_path = t1[10]\n",
    "test_image = iio.imread(test_image_path)"
   ]
  },
  {
   "cell_type": "code",
   "execution_count": 124,
   "metadata": {},
   "outputs": [
    {
     "data": {
      "text/plain": [
       "(512, 512, 4)"
      ]
     },
     "execution_count": 124,
     "metadata": {},
     "output_type": "execute_result"
    }
   ],
   "source": [
    "test_image = iio.imread(test_image_path)\n",
    "test_image.shape\n"
   ]
  },
  {
   "cell_type": "code",
   "execution_count": null,
   "metadata": {},
   "outputs": [],
   "source": [
    "import numpy as np\n",
    "\n",
    "def assign_labels_to_colors(image):\n",
    "    if image.shape[2] == 4:\n",
    "        image = image[:, :, :3]  # Keep only the first three channels (RGB)\n",
    "    \n",
    "    flat_image = image.reshape(-1, image.shape[2])\n",
    "    unique_colors = np.unique(flat_image, axis=0)\n",
    "    \n",
    "    color_to_label = {}\n",
    "    label = 0  # Initialize label counter\n",
    "    for color in unique_colors:\n",
    "        color_to_label[tuple(color)] = label\n",
    "        label += 1  # Increment label for the next unique color\n",
    "\n",
    "\n",
    "    label_to_color = {}\n",
    "    for label, color in color_to_label.items():\n",
    "        label_to_color[color] = label\n",
    "    \n",
    "    # Initialize an empty 3D array for the RGB labeled image\n",
    "    labeled_image = np.zeros((512, 512, 3), dtype=np.uint8)\n",
    "    \n",
    "    # Assign RGB colors to the original image based on the label\n",
    "    for x in range(image.shape[0]):\n",
    "        for y in range(image.shape[1]):\n",
    "            label = color_to_label[tuple(image[x, y])]\n",
    "            color = label_to_color[label]\n",
    "\n",
    "            labeled_image[x, y] = label_to_color[label]\n",
    "    \n",
    "    return labeled_image"
   ]
  },
  {
   "cell_type": "code",
   "execution_count": 125,
   "metadata": {},
   "outputs": [],
   "source": [
    "if test_image.shape[2] == 4:\n",
    "    test_image = test_image[:, :, :3]  # Keep only the first three channels (RGB)"
   ]
  },
  {
   "cell_type": "code",
   "execution_count": null,
   "metadata": {},
   "outputs": [],
   "source": [
    "\n",
    "    \n",
    "flat_image = test_image.reshape(-1, test_image.shape[2])\n",
    "unique_colors = np.unique(flat_image, axis=0)\n",
    " \n",
    "color_to_label = {}\n",
    "label = 0  # Initialize label counter\n",
    "for color in unique_colors:\n",
    "    color_to_label[tuple(color)] = label\n",
    "    label += 1  # Increment label for the next unique color\n",
    "\n",
    "label_to_color = {}\n",
    "for label, color in color_to_label.items():\n",
    "    label_to_color[color] = label"
   ]
  },
  {
   "cell_type": "code",
   "execution_count": null,
   "metadata": {},
   "outputs": [],
   "source": [
    "# Modified version to include points\n",
    "def assign_labels_to_points_and_colors(label, points):\n",
    "    if label not in label_points_map:\n",
    "        label_points_map[label] = {'color': None, 'points': []}\n",
    "    \n",
    "    # Assign color to label if not already done\n",
    "    if label_points_map[label]['color'] is None:\n",
    "        label_points_map[label]['color'] = label_to_color[label]\n",
    "    \n",
    "    # Append points to the label\n",
    "    label_points_map[label]['points'].extend(points)\n",
    "\n",
    "    return label_points_map[label]\n",
    "\n",
    "# Example usage\n",
    "label_points_map = {}  # Global dictionary to hold the mapping\n",
    "label = 'some_label'\n",
    "points = []  # Example points associated with the label\n",
    "assign_labels_to_points_and_colors(label, points)\n",
    "\n",
    "# Now, label_points_map will contain a mapping of labels to their colors and points"
   ]
  },
  {
   "cell_type": "code",
   "execution_count": 126,
   "metadata": {},
   "outputs": [],
   "source": [
    "# Assuming test_image is a numpy array of shape (height, width, channels)\n",
    "height, width, _ = test_image.shape\n",
    "\n",
    "# Initialize an empty dictionary to hold the color to label mappings\n",
    "color_to_label = {}\n",
    "label = 0  # Initialize label counter\n",
    "\n",
    "# Initialize an empty dictionary to hold the label to color mappings\n",
    "label_to_color = {}\n",
    "\n",
    "# Iterate over each pixel in the image\n",
    "for x in range(height):\n",
    "    for y in range(width):\n",
    "        color = tuple(test_image[x, y])\n",
    "        # Check if the color is already in the dictionary\n",
    "        if color not in color_to_label:\n",
    "            # Assign a new label to this unique color\n",
    "            color_to_label[color] = label\n",
    "            label_to_color[label] = color\n",
    "            label += 1  # Increment label for the next unique color\n",
    "\n",
    "# Now, color_to_label contains mappings from colors to labels\n",
    "# and label_to_color contains mappings from labels to colors\n",
    "\n",
    "# If you need to create a labeled image based on these mappings:\n",
    "labeled_image = np.zeros((height, width, 3), dtype=np.uint8)\n",
    "\n",
    "# Assign labels to the original image based on the color\n",
    "for x in range(height):\n",
    "    for y in range(width):\n",
    "        color = tuple(test_image[x, y])\n",
    "        label = color_to_label[color]\n",
    "        # Here you can decide how to use the label. For example, you might want to:\n",
    "        # - Directly use the label as a color (if it makes sense in your context)\n",
    "        # - Map the label to a specific color using label_to_color\n",
    "        # For demonstration, let's just copy the original color using the label\n",
    "        labeled_image[x, y] = np.array(label_to_color[label], dtype=np.uint8)\n",
    "\n",
    "# labeled_image now contains the image with labels assigned to each pixel"
   ]
  },
  {
   "cell_type": "code",
   "execution_count": 127,
   "metadata": {},
   "outputs": [],
   "source": [
    "# Initialize cells array with the correct shape\n",
    "rows, cols = (len(color_to_label), 0)\n",
    "# method 2 1st approach\n",
    "cells = [[] for _ in range(rows)]\n",
    "\n",
    "# Rest of the code remains the same\n",
    "im = test_image[:, :, :3]"
   ]
  },
  {
   "cell_type": "code",
   "execution_count": 128,
   "metadata": {},
   "outputs": [
    {
     "data": {
      "text/plain": [
       "[[], [], [], [], [], []]"
      ]
     },
     "execution_count": 128,
     "metadata": {},
     "output_type": "execute_result"
    }
   ],
   "source": [
    "cells"
   ]
  },
  {
   "cell_type": "code",
   "execution_count": 129,
   "metadata": {},
   "outputs": [],
   "source": [
    "for x in range(height):\n",
    "    for y in range(width):\n",
    "        color = tuple(im[x, y])\n",
    "        label = color_to_label[color]\n",
    "        cells[label].append(tuple((x, y)))\n"
   ]
  },
  {
   "cell_type": "code",
   "execution_count": 130,
   "metadata": {},
   "outputs": [],
   "source": [
    "del cells[0]"
   ]
  },
  {
   "cell_type": "code",
   "execution_count": 131,
   "metadata": {},
   "outputs": [
    {
     "data": {
      "text/plain": [
       "(324, 285)"
      ]
     },
     "execution_count": 131,
     "metadata": {},
     "output_type": "execute_result"
    }
   ],
   "source": [
    "cells[0][-1]"
   ]
  },
  {
   "cell_type": "code",
   "execution_count": 132,
   "metadata": {},
   "outputs": [],
   "source": [
    "centers = []\n",
    "for arr in cells:\n",
    "    total = (0,0)\n",
    "    count = 0\n",
    "    for point in arr:\n",
    "        total = tuple(map(sum, zip(total, point)))\n",
    "        count += 1\n",
    "    \n",
    "    center = tuple(x/count for x in total)\n",
    "    centers.append(center)"
   ]
  },
  {
   "cell_type": "code",
   "execution_count": 133,
   "metadata": {},
   "outputs": [
    {
     "data": {
      "text/plain": [
       "(199.95747747747748, 221.99495495495495)"
      ]
     },
     "execution_count": 133,
     "metadata": {},
     "output_type": "execute_result"
    }
   ],
   "source": [
    "centers[0]"
   ]
  },
  {
   "cell_type": "code",
   "execution_count": 134,
   "metadata": {},
   "outputs": [],
   "source": [
    "compare_image = t1[11]\n",
    "compare_image = iio.imread(compare_image)"
   ]
  },
  {
   "cell_type": "code",
   "execution_count": 154,
   "metadata": {},
   "outputs": [
    {
     "ename": "KeyError",
     "evalue": "(150, 0, 200)",
     "output_type": "error",
     "traceback": [
      "\u001b[0;31m---------------------------------------------------------------------------\u001b[0m",
      "\u001b[0;31mKeyError\u001b[0m                                  Traceback (most recent call last)",
      "Cell \u001b[0;32mIn[154], line 5\u001b[0m\n\u001b[1;32m      3\u001b[0m \u001b[38;5;28;01mfor\u001b[39;00m y \u001b[38;5;129;01min\u001b[39;00m \u001b[38;5;28mrange\u001b[39m(width):\n\u001b[1;32m      4\u001b[0m     color \u001b[38;5;241m=\u001b[39m \u001b[38;5;28mtuple\u001b[39m(im[x, y])\n\u001b[0;32m----> 5\u001b[0m     label \u001b[38;5;241m=\u001b[39m \u001b[43mcolor_to_label\u001b[49m\u001b[43m[\u001b[49m\u001b[43mcolor\u001b[49m\u001b[43m]\u001b[49m\n\u001b[1;32m      6\u001b[0m     cells2[label]\u001b[38;5;241m.\u001b[39mappend(\u001b[38;5;28mtuple\u001b[39m((x, y)))\n",
      "\u001b[0;31mKeyError\u001b[0m: (150, 0, 200)"
     ]
    }
   ],
   "source": [
    "cells2 = [[] for _ in range(rows)]\n",
    "for x in range(height):\n",
    "    for y in range(width):\n",
    "        color = tuple(im[x, y])\n",
    "        label = color_to_label[color]\n",
    "        cells2[label].append(tuple((x, y)))"
   ]
  },
  {
   "cell_type": "code",
   "execution_count": 153,
   "metadata": {},
   "outputs": [
    {
     "data": {
      "text/plain": [
       "[[], [], [], [], [], []]"
      ]
     },
     "execution_count": 153,
     "metadata": {},
     "output_type": "execute_result"
    }
   ],
   "source": [
    "cells2"
   ]
  },
  {
   "cell_type": "code",
   "execution_count": 151,
   "metadata": {},
   "outputs": [],
   "source": [
    "centers2 = []\n",
    "for arr in compare_image:\n",
    "    total = (0,0)\n",
    "    count = 0\n",
    "    for point in arr:\n",
    "        total = tuple(map(sum, zip(total, point)))\n",
    "        count += 1\n",
    "    \n",
    "    center = tuple(x/count for x in total)\n",
    "    centers2.append(center)"
   ]
  },
  {
   "cell_type": "code",
   "execution_count": 152,
   "metadata": {},
   "outputs": [
    {
     "data": {
      "text/plain": [
       "[(255.0, 255.0),\n",
       " (255.0, 255.0),\n",
       " (255.0, 255.0),\n",
       " (255.0, 255.0),\n",
       " (255.0, 255.0),\n",
       " (255.0, 255.0),\n",
       " (255.0, 255.0),\n",
       " (255.0, 255.0),\n",
       " (255.0, 255.0),\n",
       " (255.0, 255.0),\n",
       " (255.0, 255.0),\n",
       " (255.0, 255.0),\n",
       " (255.0, 255.0),\n",
       " (255.0, 255.0),\n",
       " (255.0, 255.0),\n",
       " (255.0, 255.0),\n",
       " (255.0, 255.0),\n",
       " (255.0, 255.0),\n",
       " (255.0, 255.0),\n",
       " (255.0, 255.0),\n",
       " (255.0, 255.0),\n",
       " (255.0, 255.0),\n",
       " (255.0, 255.0),\n",
       " (255.0, 255.0),\n",
       " (255.0, 255.0),\n",
       " (255.0, 255.0),\n",
       " (255.0, 255.0),\n",
       " (255.0, 255.0),\n",
       " (255.0, 255.0),\n",
       " (255.0, 255.0),\n",
       " (255.0, 255.0),\n",
       " (255.0, 255.0),\n",
       " (255.0, 255.0),\n",
       " (255.0, 255.0),\n",
       " (255.0, 255.0),\n",
       " (255.0, 255.0),\n",
       " (255.0, 255.0),\n",
       " (255.0, 255.0),\n",
       " (255.0, 255.0),\n",
       " (255.0, 255.0),\n",
       " (255.0, 255.0),\n",
       " (255.0, 255.0),\n",
       " (255.0, 255.0),\n",
       " (255.0, 255.0),\n",
       " (255.0, 255.0),\n",
       " (255.0, 255.0),\n",
       " (255.0, 255.0),\n",
       " (255.0, 255.0),\n",
       " (255.0, 255.0),\n",
       " (255.0, 255.0),\n",
       " (255.0, 255.0),\n",
       " (255.0, 255.0),\n",
       " (255.0, 255.0),\n",
       " (255.0, 255.0),\n",
       " (255.0, 255.0),\n",
       " (255.0, 255.0),\n",
       " (255.0, 255.0),\n",
       " (255.0, 255.0),\n",
       " (255.0, 255.0),\n",
       " (255.0, 255.0),\n",
       " (255.0, 255.0),\n",
       " (255.0, 255.0),\n",
       " (255.0, 255.0),\n",
       " (255.0, 255.0),\n",
       " (255.0, 255.0),\n",
       " (255.0, 255.0),\n",
       " (255.0, 255.0),\n",
       " (255.0, 255.0),\n",
       " (255.0, 255.0),\n",
       " (255.0, 255.0),\n",
       " (255.0, 255.0),\n",
       " (255.0, 255.0),\n",
       " (255.0, 255.0),\n",
       " (255.0, 255.0),\n",
       " (255.0, 255.0),\n",
       " (255.0, 255.0),\n",
       " (255.0, 255.0),\n",
       " (255.0, 255.0),\n",
       " (255.0, 255.0),\n",
       " (255.0, 255.0),\n",
       " (255.0, 255.0),\n",
       " (255.0, 255.0),\n",
       " (255.0, 255.0),\n",
       " (255.0, 255.0),\n",
       " (255.0, 255.0),\n",
       " (255.0, 255.0),\n",
       " (255.0, 255.0),\n",
       " (255.0, 255.0),\n",
       " (255.0, 255.0),\n",
       " (255.0, 255.0),\n",
       " (250.01953125, 255.0),\n",
       " (240.556640625, 255.0),\n",
       " (239.0625, 255.0),\n",
       " (236.572265625, 255.0),\n",
       " (243.046875, 255.0),\n",
       " (245.537109375, 255.0),\n",
       " (246.533203125, 255.0),\n",
       " (247.529296875, 255.0),\n",
       " (248.525390625, 255.0),\n",
       " (248.02734375, 255.0),\n",
       " (248.02734375, 255.0),\n",
       " (248.02734375, 255.0),\n",
       " (247.03125, 255.0),\n",
       " (247.03125, 255.0),\n",
       " (248.525390625, 255.0),\n",
       " (245.0390625, 255.0),\n",
       " (244.541015625, 255.0),\n",
       " (244.541015625, 255.0),\n",
       " (245.537109375, 255.0),\n",
       " (246.533203125, 255.0),\n",
       " (247.529296875, 255.0),\n",
       " (248.02734375, 255.0),\n",
       " (248.02734375, 255.0),\n",
       " (248.525390625, 255.0),\n",
       " (249.521484375, 255.0),\n",
       " (249.0234375, 255.0),\n",
       " (249.0234375, 255.0),\n",
       " (249.0234375, 255.0),\n",
       " (249.521484375, 255.0),\n",
       " (249.0234375, 255.0),\n",
       " (249.0234375, 255.0),\n",
       " (248.02734375, 255.0),\n",
       " (246.03515625, 255.0),\n",
       " (246.533203125, 255.0),\n",
       " (247.529296875, 255.0),\n",
       " (249.0234375, 255.0),\n",
       " (249.521484375, 255.0),\n",
       " (249.0234375, 255.0),\n",
       " (249.0234375, 255.0),\n",
       " (249.0234375, 255.0),\n",
       " (248.02734375, 255.0),\n",
       " (248.525390625, 255.0),\n",
       " (249.0234375, 255.0),\n",
       " (250.01953125, 255.0),\n",
       " (250.01953125, 255.0),\n",
       " (251.015625, 255.0),\n",
       " (250.517578125, 255.0),\n",
       " (250.517578125, 255.0),\n",
       " (250.517578125, 255.0),\n",
       " (250.517578125, 255.0),\n",
       " (249.521484375, 255.0),\n",
       " (249.521484375, 255.0),\n",
       " (250.01953125, 255.0),\n",
       " (250.01953125, 255.0),\n",
       " (250.01953125, 255.0),\n",
       " (250.517578125, 255.0),\n",
       " (250.517578125, 255.0),\n",
       " (250.517578125, 255.0),\n",
       " (250.517578125, 255.0),\n",
       " (250.01953125, 255.0),\n",
       " (250.01953125, 255.0),\n",
       " (249.0234375, 255.0),\n",
       " (250.01953125, 255.0),\n",
       " (251.015625, 255.0),\n",
       " (251.015625, 255.0),\n",
       " (251.015625, 255.0),\n",
       " (250.01953125, 255.0),\n",
       " (249.521484375, 255.0),\n",
       " (250.517578125, 255.0),\n",
       " (250.01953125, 255.0),\n",
       " (249.521484375, 255.0),\n",
       " (250.517578125, 255.0),\n",
       " (249.521484375, 255.0),\n",
       " (250.517578125, 255.0),\n",
       " (250.01953125, 255.0),\n",
       " (250.01953125, 255.0),\n",
       " (251.513671875, 255.0),\n",
       " (250.517578125, 255.0),\n",
       " (250.517578125, 255.0),\n",
       " (250.517578125, 255.0),\n",
       " (250.517578125, 255.0),\n",
       " (251.015625, 255.0),\n",
       " (251.513671875, 255.0),\n",
       " (251.015625, 255.0),\n",
       " (251.015625, 255.0),\n",
       " (250.517578125, 255.0),\n",
       " (250.01953125, 255.0),\n",
       " (250.517578125, 255.0),\n",
       " (249.521484375, 255.0),\n",
       " (250.01953125, 255.0),\n",
       " (250.01953125, 255.0),\n",
       " (250.01953125, 255.0),\n",
       " (250.01953125, 255.0),\n",
       " (250.517578125, 255.0),\n",
       " (250.517578125, 255.0),\n",
       " (251.015625, 251.015625),\n",
       " (250.517578125, 249.521484375),\n",
       " (250.517578125, 248.02734375),\n",
       " (250.01953125, 247.529296875),\n",
       " (250.517578125, 248.02734375),\n",
       " (250.984375, 247.560546875),\n",
       " (250.517578125, 248.525390625),\n",
       " (251.015625, 250.01953125),\n",
       " (251.015625, 250.517578125),\n",
       " (251.513671875, 250.517578125),\n",
       " (249.2578125, 245.0390625),\n",
       " (247.822265625, 240.556640625),\n",
       " (247.20703125, 239.560546875),\n",
       " (246.591796875, 238.06640625),\n",
       " (247.6171875, 240.556640625),\n",
       " (247.939453125, 241.0546875),\n",
       " (248.349609375, 241.0546875),\n",
       " (248.349609375, 240.556640625),\n",
       " (248.26171875, 242.05078125),\n",
       " (248.5546875, 242.05078125),\n",
       " (248.96484375, 243.544921875),\n",
       " (248.466796875, 243.544921875),\n",
       " (248.056640625, 241.552734375),\n",
       " (248.26171875, 241.0546875),\n",
       " (248.466796875, 241.552734375),\n",
       " (248.759765625, 241.552734375),\n",
       " (249.052734375, 241.552734375),\n",
       " (248.759765625, 243.046875),\n",
       " (247.763671875, 244.04296875),\n",
       " (247.265625, 244.04296875),\n",
       " (247.060546875, 242.548828125),\n",
       " (247.265625, 242.548828125),\n",
       " (246.767578125, 242.548828125),\n",
       " (246.474609375, 243.544921875),\n",
       " (246.26953125, 243.046875),\n",
       " (246.97265625, 243.544921875),\n",
       " (246.97265625, 243.544921875),\n",
       " (246.97265625, 243.544921875),\n",
       " (246.474609375, 243.544921875),\n",
       " (246.26953125, 242.548828125),\n",
       " (245.2734375, 241.552734375),\n",
       " (243.28125, 241.0546875),\n",
       " (243.486328125, 242.05078125),\n",
       " (242.98828125, 243.046875),\n",
       " (242.98828125, 243.544921875),\n",
       " (243.69140625, 244.541015625),\n",
       " (243.69140625, 244.04296875),\n",
       " (243.69140625, 245.0390625),\n",
       " (245.185546875, 244.541015625),\n",
       " (246.6796875, 245.0390625),\n",
       " (246.474609375, 244.04296875),\n",
       " (247.265625, 244.04296875),\n",
       " (246.5625, 243.544921875),\n",
       " (245.361328125, 243.544921875),\n",
       " (243.75, 242.05078125),\n",
       " (242.109375, 238.06640625),\n",
       " (243.310546875, 238.06640625),\n",
       " (244.716796875, 238.06640625),\n",
       " (245.44921875, 239.0625),\n",
       " (246.298828125, 242.548828125),\n",
       " (246.533203125, 245.0390625),\n",
       " (245.537109375, 244.541015625),\n",
       " (246.03515625, 246.03515625),\n",
       " (245.0390625, 249.0234375),\n",
       " (244.541015625, 248.525390625),\n",
       " (245.0390625, 249.521484375),\n",
       " (246.03515625, 250.01953125),\n",
       " (246.533203125, 251.015625),\n",
       " (246.533203125, 250.517578125),\n",
       " (246.03515625, 249.521484375),\n",
       " (245.0390625, 249.0234375),\n",
       " (243.544921875, 248.02734375),\n",
       " (244.04296875, 248.525390625),\n",
       " (245.0390625, 249.521484375),\n",
       " (246.533203125, 251.015625),\n",
       " (251.015625, 255.0),\n",
       " (250.517578125, 255.0),\n",
       " (250.517578125, 255.0),\n",
       " (250.517578125, 255.0),\n",
       " (250.01953125, 255.0),\n",
       " (250.01953125, 255.0),\n",
       " (249.521484375, 255.0),\n",
       " (249.521484375, 255.0),\n",
       " (249.521484375, 255.0),\n",
       " (250.01953125, 255.0),\n",
       " (250.517578125, 255.0),\n",
       " (250.01953125, 255.0),\n",
       " (250.01953125, 255.0),\n",
       " (250.01953125, 255.0),\n",
       " (250.517578125, 255.0),\n",
       " (250.517578125, 255.0),\n",
       " (250.01953125, 255.0),\n",
       " (250.01953125, 255.0),\n",
       " (250.517578125, 255.0),\n",
       " (250.517578125, 255.0),\n",
       " (250.01953125, 255.0),\n",
       " (251.015625, 255.0),\n",
       " (250.517578125, 255.0),\n",
       " (250.01953125, 255.0),\n",
       " (250.517578125, 255.0),\n",
       " (250.01953125, 255.0),\n",
       " (250.517578125, 255.0),\n",
       " (251.015625, 255.0),\n",
       " (250.01953125, 255.0),\n",
       " (250.01953125, 255.0),\n",
       " (250.01953125, 255.0),\n",
       " (249.521484375, 255.0),\n",
       " (249.521484375, 255.0),\n",
       " (249.521484375, 255.0),\n",
       " (250.01953125, 255.0),\n",
       " (249.521484375, 255.0),\n",
       " (249.521484375, 255.0),\n",
       " (249.521484375, 255.0),\n",
       " (250.01953125, 255.0),\n",
       " (249.521484375, 255.0),\n",
       " (249.0234375, 255.0),\n",
       " (249.0234375, 255.0),\n",
       " (248.525390625, 255.0),\n",
       " (249.0234375, 255.0),\n",
       " (248.02734375, 255.0),\n",
       " (247.529296875, 255.0),\n",
       " (246.533203125, 255.0),\n",
       " (246.03515625, 255.0),\n",
       " (246.03515625, 255.0),\n",
       " (245.0390625, 255.0),\n",
       " (244.541015625, 255.0),\n",
       " (243.046875, 255.0),\n",
       " (243.544921875, 255.0),\n",
       " (238.564453125, 255.0),\n",
       " (242.05078125, 255.0),\n",
       " (255.0, 255.0),\n",
       " (255.0, 255.0),\n",
       " (255.0, 255.0),\n",
       " (255.0, 255.0),\n",
       " (255.0, 255.0),\n",
       " (255.0, 255.0),\n",
       " (255.0, 255.0),\n",
       " (255.0, 255.0),\n",
       " (255.0, 255.0),\n",
       " (255.0, 255.0),\n",
       " (255.0, 255.0),\n",
       " (255.0, 255.0),\n",
       " (255.0, 255.0),\n",
       " (255.0, 255.0),\n",
       " (255.0, 255.0),\n",
       " (255.0, 255.0),\n",
       " (255.0, 255.0),\n",
       " (255.0, 255.0),\n",
       " (255.0, 255.0),\n",
       " (255.0, 255.0),\n",
       " (255.0, 255.0),\n",
       " (255.0, 255.0),\n",
       " (255.0, 255.0),\n",
       " (255.0, 255.0),\n",
       " (255.0, 255.0),\n",
       " (255.0, 255.0),\n",
       " (255.0, 255.0),\n",
       " (255.0, 255.0),\n",
       " (255.0, 255.0),\n",
       " (255.0, 255.0),\n",
       " (255.0, 255.0),\n",
       " (255.0, 255.0),\n",
       " (255.0, 255.0),\n",
       " (255.0, 255.0),\n",
       " (255.0, 255.0),\n",
       " (255.0, 255.0),\n",
       " (255.0, 255.0),\n",
       " (255.0, 255.0),\n",
       " (255.0, 255.0),\n",
       " (255.0, 255.0),\n",
       " (255.0, 255.0),\n",
       " (255.0, 255.0),\n",
       " (255.0, 255.0),\n",
       " (255.0, 255.0),\n",
       " (255.0, 255.0),\n",
       " (255.0, 255.0),\n",
       " (255.0, 255.0),\n",
       " (255.0, 255.0),\n",
       " (255.0, 255.0),\n",
       " (255.0, 255.0),\n",
       " (255.0, 255.0),\n",
       " (255.0, 255.0),\n",
       " (255.0, 255.0),\n",
       " (255.0, 255.0),\n",
       " (255.0, 255.0),\n",
       " (255.0, 255.0),\n",
       " (255.0, 255.0),\n",
       " (255.0, 255.0),\n",
       " (255.0, 255.0),\n",
       " (255.0, 255.0),\n",
       " (255.0, 255.0),\n",
       " (255.0, 255.0),\n",
       " (255.0, 255.0),\n",
       " (255.0, 255.0),\n",
       " (255.0, 255.0),\n",
       " (255.0, 255.0),\n",
       " (255.0, 255.0),\n",
       " (255.0, 255.0),\n",
       " (255.0, 255.0),\n",
       " (255.0, 255.0),\n",
       " (255.0, 255.0),\n",
       " (255.0, 255.0),\n",
       " (255.0, 255.0),\n",
       " (255.0, 255.0),\n",
       " (255.0, 255.0),\n",
       " (255.0, 255.0),\n",
       " (255.0, 255.0),\n",
       " (255.0, 255.0),\n",
       " (255.0, 255.0),\n",
       " (255.0, 255.0),\n",
       " (255.0, 255.0),\n",
       " (255.0, 255.0),\n",
       " (255.0, 255.0),\n",
       " (255.0, 255.0),\n",
       " (255.0, 255.0),\n",
       " (255.0, 255.0),\n",
       " (255.0, 255.0),\n",
       " (255.0, 255.0),\n",
       " (255.0, 255.0),\n",
       " (255.0, 255.0),\n",
       " (255.0, 255.0),\n",
       " (255.0, 255.0),\n",
       " (255.0, 255.0),\n",
       " (255.0, 255.0),\n",
       " (255.0, 255.0),\n",
       " (255.0, 255.0),\n",
       " (255.0, 255.0),\n",
       " (255.0, 255.0),\n",
       " (255.0, 255.0),\n",
       " (255.0, 255.0),\n",
       " (255.0, 255.0),\n",
       " (255.0, 255.0),\n",
       " (255.0, 255.0),\n",
       " (255.0, 255.0),\n",
       " (255.0, 255.0),\n",
       " (255.0, 255.0),\n",
       " (255.0, 255.0),\n",
       " (255.0, 255.0),\n",
       " (255.0, 255.0),\n",
       " (255.0, 255.0),\n",
       " (255.0, 255.0),\n",
       " (255.0, 255.0),\n",
       " (255.0, 255.0),\n",
       " (255.0, 255.0),\n",
       " (255.0, 255.0),\n",
       " (255.0, 255.0),\n",
       " (255.0, 255.0),\n",
       " (255.0, 255.0),\n",
       " (255.0, 255.0),\n",
       " (255.0, 255.0),\n",
       " (255.0, 255.0),\n",
       " (255.0, 255.0),\n",
       " (255.0, 255.0),\n",
       " (255.0, 255.0),\n",
       " (255.0, 255.0),\n",
       " (255.0, 255.0),\n",
       " (255.0, 255.0),\n",
       " (255.0, 255.0),\n",
       " (255.0, 255.0),\n",
       " (255.0, 255.0),\n",
       " (255.0, 255.0),\n",
       " (255.0, 255.0),\n",
       " (255.0, 255.0),\n",
       " (255.0, 255.0),\n",
       " (255.0, 255.0),\n",
       " (255.0, 255.0),\n",
       " (255.0, 255.0),\n",
       " (255.0, 255.0),\n",
       " (255.0, 255.0),\n",
       " (255.0, 255.0),\n",
       " (255.0, 255.0),\n",
       " (255.0, 255.0),\n",
       " (255.0, 255.0),\n",
       " (255.0, 255.0),\n",
       " (255.0, 255.0),\n",
       " (255.0, 255.0),\n",
       " (255.0, 255.0),\n",
       " (255.0, 255.0),\n",
       " (255.0, 255.0),\n",
       " (255.0, 255.0),\n",
       " (255.0, 255.0),\n",
       " (255.0, 255.0),\n",
       " (255.0, 255.0),\n",
       " (255.0, 255.0),\n",
       " (255.0, 255.0),\n",
       " (255.0, 255.0),\n",
       " (255.0, 255.0),\n",
       " (255.0, 255.0),\n",
       " (255.0, 255.0),\n",
       " (255.0, 255.0),\n",
       " (255.0, 255.0),\n",
       " (255.0, 255.0),\n",
       " (255.0, 255.0),\n",
       " (255.0, 255.0),\n",
       " (255.0, 255.0),\n",
       " (255.0, 255.0),\n",
       " (255.0, 255.0),\n",
       " (255.0, 255.0),\n",
       " (255.0, 255.0),\n",
       " (255.0, 255.0),\n",
       " (255.0, 255.0),\n",
       " (255.0, 255.0),\n",
       " (255.0, 255.0),\n",
       " (255.0, 255.0),\n",
       " (255.0, 255.0),\n",
       " (255.0, 255.0),\n",
       " (255.0, 255.0),\n",
       " (255.0, 255.0),\n",
       " (255.0, 255.0),\n",
       " (255.0, 255.0),\n",
       " (255.0, 255.0),\n",
       " (255.0, 255.0),\n",
       " (255.0, 255.0),\n",
       " (255.0, 255.0),\n",
       " (255.0, 255.0),\n",
       " (255.0, 255.0),\n",
       " (255.0, 255.0),\n",
       " (255.0, 255.0),\n",
       " (255.0, 255.0),\n",
       " (255.0, 255.0),\n",
       " (255.0, 255.0),\n",
       " (255.0, 255.0),\n",
       " (255.0, 255.0),\n",
       " (255.0, 255.0),\n",
       " (255.0, 255.0),\n",
       " (255.0, 255.0),\n",
       " (255.0, 255.0)]"
      ]
     },
     "execution_count": 152,
     "metadata": {},
     "output_type": "execute_result"
    }
   ],
   "source": [
    "centers2"
   ]
  },
  {
   "cell_type": "code",
   "execution_count": 139,
   "metadata": {},
   "outputs": [],
   "source": [
    "del centers[2]"
   ]
  },
  {
   "cell_type": "code",
   "execution_count": 150,
   "metadata": {},
   "outputs": [
    {
     "data": {
      "text/plain": [
       "{(255, 255, 255): 0,\n",
       " (0, 255, 0): 1,\n",
       " (255, 0, 0): 2,\n",
       " (0, 0, 255): 4,\n",
       " (255, 0, 255): 5}"
      ]
     },
     "execution_count": 150,
     "metadata": {},
     "output_type": "execute_result"
    }
   ],
   "source": [
    "color_to_label"
   ]
  },
  {
   "cell_type": "code",
   "execution_count": 149,
   "metadata": {},
   "outputs": [],
   "source": [
    "del color_to_label[(150, 0, 200)]"
   ]
  },
  {
   "cell_type": "code",
   "execution_count": 136,
   "metadata": {},
   "outputs": [
    {
     "data": {
      "text/plain": [
       "<matplotlib.image.AxesImage at 0x7a0d53a174c0>"
      ]
     },
     "execution_count": 136,
     "metadata": {},
     "output_type": "execute_result"
    },
    {
     "data": {
      "image/png": "[encoded data removed]",
      "text/plain": [
       "<Figure size 640x480 with 1 Axes>"
      ]
     },
     "metadata": {},
     "output_type": "display_data"
    }
   ],
   "source": [
    "plt.imshow(test_image)"
   ]
  },
  {
   "cell_type": "code",
   "execution_count": null,
   "metadata": {},
   "outputs": [],
   "source": [
    "test_image[243][211]"
   ]
  },
  {
   "cell_type": "code",
   "execution_count": 12,
   "metadata": {},
   "outputs": [
    {
     "data": {
      "image/png": "[encoded data removed]",
      "text/plain": [
       "<Figure size 1000x1000 with 2 Axes>"
      ]
     },
     "metadata": {},
     "output_type": "display_data"
    }
   ],
   "source": [
    "import matplotlib.pyplot as plt\n",
    "\n",
    "# Plot the labeled image\n",
    "plt.figure(figsize=(10, 10))  # Adjust the figure size as needed\n",
    "plt.imshow(labeled_image, cmap='grey', interpolation='none')  # 'nipy_spectral' is a good colormap for distinct colors\n",
    "plt.colorbar()  # Show color scale\n",
    "plt.title('Labeled Image')\n",
    "\n",
    "plt.show()"
   ]
  },
  {
   "cell_type": "code",
   "execution_count": null,
   "metadata": {},
   "outputs": [],
   "source": [
    "labeled_image.shape"
   ]
  },
  {
   "cell_type": "code",
   "execution_count": null,
   "metadata": {},
   "outputs": [],
   "source": [
    "# Convert the data type of labeled_image to uint8\n",
    "#labeled_image = labeled_image.astype(np.uint8)\n",
    "\n",
    "# Save the labeled image\n",
    "iio.imwrite('labeled_image.png', test_image)"
   ]
  },
  {
   "cell_type": "code",
   "execution_count": null,
   "metadata": {},
   "outputs": [],
   "source": []
  },
  {
   "cell_type": "code",
   "execution_count": null,
   "metadata": {},
   "outputs": [],
   "source": [
    "print(unique_labels)"
   ]
  },
  {
   "cell_type": "code",
   "execution_count": null,
   "metadata": {},
   "outputs": [],
   "source": [
    "# Loop through all files in t1 and add each cell in a new position to a vector of all the cells with their x, y center\n",
    "cells = []\n",
    "\n",
    "for file in t1:\n",
    "    im = iio.imread(file)\n",
    "\n",
    "    unique_labels = np.unique(im)\n",
    "    #unique_labels[unique_labels != 0]\n",
    "\n",
    "    for label in unique_labels:\n",
    "        positions = np.argwhere(im == label)\n",
    "        center = positions.mean(axis=0)\n",
    "        cells.append(center)\n",
    "    \n"
   ]
  },
  {
   "cell_type": "code",
   "execution_count": null,
   "metadata": {},
   "outputs": [],
   "source": [
    "len(cells)"
   ]
  },
  {
   "cell_type": "code",
   "execution_count": null,
   "metadata": {},
   "outputs": [],
   "source": [
    "cells = []\n",
    "\n",
    "labeled_image = assign_labels_to_colors(test_image)\n",
    "print(labeled_image)"
   ]
  }
 ],
 "metadata": {
  "kernelspec": {
   "display_name": "vTerra",
   "language": "python",
   "name": "python3"
  },
  "language_info": {
   "codemirror_mode": {
    "name": "ipython",
    "version": 3
   },
   "file_extension": ".py",
   "mimetype": "text/x-python",
   "name": "python",
   "nbconvert_exporter": "python",
   "pygments_lexer": "ipython3",
   "version": "3.10.13"
  }
 },
 "nbformat": 4,
 "nbformat_minor": 2
}
